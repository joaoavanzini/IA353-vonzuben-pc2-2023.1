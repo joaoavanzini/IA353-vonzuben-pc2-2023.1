{
  "cells": [
    {
      "cell_type": "markdown",
      "metadata": {
        "id": "view-in-github",
        "colab_type": "text"
      },
      "source": [
        "<a href=\"https://colab.research.google.com/github/jvpalhares/IA353-vonzuben-pc2-2023.1/blob/main/PC2_Ativ10_RL_Maze_gc.ipynb\" target=\"_parent\"><img src=\"https://colab.research.google.com/assets/colab-badge.svg\" alt=\"Open In Colab\"/></a>"
      ]
    },
    {
      "cell_type": "markdown",
      "metadata": {
        "id": "XP2x0pxJ9uJK"
      },
      "source": [
        "## **Notebook #10**\n",
        "## Solving a Maze with Deep Reinforcement Learning.\n",
        "**Professor:** Fernando J. Von Zuben <br>\n",
        "**Aluno(a):** João Victor Palhares Barbosa\n"
      ]
    },
    {
      "cell_type": "markdown",
      "metadata": {
        "id": "hFi1P1DT4FgS"
      },
      "source": [
        "# Code based on [this content](https://www.samyzaf.com/ML/rl/qmaze.html)."
      ]
    },
    {
      "cell_type": "markdown",
      "metadata": {
        "id": "rjhi5kdG4FgT"
      },
      "source": [
        "### Importações e definições"
      ]
    },
    {
      "cell_type": "code",
      "execution_count": null,
      "metadata": {
        "id": "-aDpGQDz4Fg0"
      },
      "outputs": [],
      "source": [
        "from __future__ import print_function\n",
        "from time import sleep\n",
        "from IPython import display\n",
        "import pylab as pl\n",
        "import os, sys, time, datetime, json, random\n",
        "import numpy as np\n",
        "from keras.models import Sequential\n",
        "from keras.layers.core import Dense, Activation\n",
        "from keras.optimizers import SGD , Adam, RMSprop\n",
        "from keras.layers import PReLU\n",
        "import tensorflow as tf\n",
        "#from keras.layers.advanced_activations import PReLU\n",
        "import matplotlib.pyplot as plt\n",
        "\n",
        "import gc\n",
        "from keras.backend import clear_session\n",
        "from tqdm.notebook import tqdm\n",
        "\n",
        "%matplotlib inline"
      ]
    },
    {
      "cell_type": "code",
      "execution_count": null,
      "metadata": {
        "id": "JQs4V1wY_jJS"
      },
      "outputs": [],
      "source": [
        "visited_mark = 0.8  # Cells visited by the rat will be painted by gray 0.8\n",
        "rat_mark = 0.5      # The current rat cell will be painted by gray 0.5\n",
        "LEFT = 0\n",
        "UP = 1\n",
        "RIGHT = 2\n",
        "DOWN = 3\n",
        "\n",
        "# Actions dictionary\n",
        "actions_dict = {\n",
        "    LEFT: 'left',\n",
        "    UP: 'up',\n",
        "    RIGHT: 'right',\n",
        "    DOWN: 'down',\n",
        "}\n",
        "\n",
        "num_actions = len(actions_dict)\n",
        "\n",
        "# Exploration factor\n",
        "epsilon = 0.1"
      ]
    },
    {
      "cell_type": "code",
      "execution_count": null,
      "metadata": {
        "id": "d1gPgFfQAMu_"
      },
      "outputs": [],
      "source": [
        "# maze is a 2d Numpy array of floats between 0.0 to 1.0\n",
        "# 1.0 corresponds to a free cell, and 0.0 an occupied cell\n",
        "# rat = (row, col) initial rat position (defaults to (0,0))\n",
        "\n",
        "class Qmaze(object):\n",
        "    def __init__(self, maze, rat=(0,0)):\n",
        "        self._maze = np.array(maze)\n",
        "        nrows, ncols = self._maze.shape\n",
        "        self.target = (nrows-1, ncols-1)   # target cell where the \"cheese\" is\n",
        "        self.free_cells = [(r,c) for r in range(nrows) for c in range(ncols) if self._maze[r,c] == 1.0]\n",
        "        self.free_cells.remove(self.target)\n",
        "        if self._maze[self.target] == 0.0:\n",
        "            raise Exception(\"Invalid maze: target cell cannot be blocked!\")\n",
        "        if not rat in self.free_cells:\n",
        "            raise Exception(\"Invalid Rat Location: must sit on a free cell\")\n",
        "        self.reset(rat)\n",
        "\n",
        "    def reset(self, rat):\n",
        "        self.rat = rat\n",
        "        self.maze = np.copy(self._maze)\n",
        "        nrows, ncols = self.maze.shape\n",
        "        row, col = rat\n",
        "        self.maze[row, col] = rat_mark\n",
        "        self.state = (row, col, 'start')\n",
        "        self.min_reward = -0.5 * self.maze.size\n",
        "        self.total_reward = 0\n",
        "        self.visited = set()\n",
        "\n",
        "    def update_state(self, action):\n",
        "        nrows, ncols = self.maze.shape\n",
        "        nrow, ncol, nmode = rat_row, rat_col, mode = self.state\n",
        "\n",
        "        if self.maze[rat_row, rat_col] > 0.0:\n",
        "            self.visited.add((rat_row, rat_col))  # mark visited cell\n",
        "\n",
        "        valid_actions = self.valid_actions()\n",
        "\n",
        "        if not valid_actions:\n",
        "            nmode = 'blocked'\n",
        "        elif action in valid_actions:\n",
        "            nmode = 'valid'\n",
        "            if action == LEFT:\n",
        "                ncol -= 1\n",
        "            elif action == UP:\n",
        "                nrow -= 1\n",
        "            if action == RIGHT:\n",
        "                ncol += 1\n",
        "            elif action == DOWN:\n",
        "                nrow += 1\n",
        "        else:                  # invalid action, no change in rat position\n",
        "            mode = 'invalid'\n",
        "\n",
        "        # new state\n",
        "        self.state = (nrow, ncol, nmode)\n",
        "\n",
        "    def get_reward(self):\n",
        "        rat_row, rat_col, mode = self.state\n",
        "        nrows, ncols = self.maze.shape\n",
        "        if rat_row == nrows-1 and rat_col == ncols-1:\n",
        "            return 1.0\n",
        "        if mode == 'blocked':\n",
        "            return self.min_reward - 1\n",
        "        if (rat_row, rat_col) in self.visited:\n",
        "            return -0.25\n",
        "        if mode == 'invalid':\n",
        "            return -0.75\n",
        "        if mode == 'valid':\n",
        "            return -0.04\n",
        "\n",
        "    def act(self, action):\n",
        "        self.update_state(action)\n",
        "        reward = self.get_reward()\n",
        "        self.total_reward += reward\n",
        "        status = self.game_status()\n",
        "        envstate = self.observe()\n",
        "        return envstate, reward, status\n",
        "\n",
        "    def observe(self):\n",
        "        canvas = self.draw_env()\n",
        "        envstate = canvas.reshape((1, -1))\n",
        "        return envstate\n",
        "\n",
        "    def draw_env(self):\n",
        "        canvas = np.copy(self.maze)\n",
        "        nrows, ncols = self.maze.shape\n",
        "        # clear all visual marks\n",
        "        for r in range(nrows):\n",
        "            for c in range(ncols):\n",
        "                if canvas[r,c] > 0.0:\n",
        "                    canvas[r,c] = 1.0\n",
        "        # draw the rat\n",
        "        row, col, valid = self.state\n",
        "        canvas[row, col] = rat_mark\n",
        "        return canvas\n",
        "\n",
        "    def game_status(self):\n",
        "        if self.total_reward < self.min_reward:\n",
        "            return 'lose'\n",
        "        rat_row, rat_col, mode = self.state\n",
        "        nrows, ncols = self.maze.shape\n",
        "        if rat_row == nrows-1 and rat_col == ncols-1:\n",
        "            return 'win'\n",
        "\n",
        "        return 'not_over'\n",
        "\n",
        "    def valid_actions(self, cell=None):\n",
        "        if cell is None:\n",
        "            row, col, mode = self.state\n",
        "        else:\n",
        "            row, col = cell\n",
        "        actions = [0, 1, 2, 3]\n",
        "        nrows, ncols = self.maze.shape\n",
        "        if row == 0:\n",
        "            actions.remove(1)\n",
        "        elif row == nrows-1:\n",
        "            actions.remove(3)\n",
        "\n",
        "        if col == 0:\n",
        "            actions.remove(0)\n",
        "        elif col == ncols-1:\n",
        "            actions.remove(2)\n",
        "\n",
        "        if row>0 and self.maze[row-1,col] == 0.0:\n",
        "            actions.remove(1)\n",
        "        if row<nrows-1 and self.maze[row+1,col] == 0.0:\n",
        "            actions.remove(3)\n",
        "\n",
        "        if col>0 and self.maze[row,col-1] == 0.0:\n",
        "            actions.remove(0)\n",
        "        if col<ncols-1 and self.maze[row,col+1] == 0.0:\n",
        "            actions.remove(2)\n",
        "\n",
        "        return actions"
      ]
    },
    {
      "cell_type": "code",
      "execution_count": null,
      "metadata": {
        "id": "ZEgvv0QHAcqO"
      },
      "outputs": [],
      "source": [
        "def show(qmaze):\n",
        "    plt.grid('on')\n",
        "    nrows, ncols = qmaze.maze.shape\n",
        "    ax = plt.gca()\n",
        "    ax.set_xticks(np.arange(0.5, nrows, 1))\n",
        "    ax.set_yticks(np.arange(0.5, ncols, 1))\n",
        "    ax.set_xticklabels([])\n",
        "    ax.set_yticklabels([])\n",
        "    canvas = np.copy(qmaze.maze)\n",
        "    for row,col in qmaze.visited:\n",
        "        canvas[row,col] = 0.6\n",
        "    rat_row, rat_col, _ = qmaze.state\n",
        "    canvas[rat_row, rat_col] = 0.3   # rat cell\n",
        "    canvas[nrows-1, ncols-1] = 0.9 # cheese cell\n",
        "    img = plt.imshow(canvas, interpolation='none', cmap='gray')\n",
        "    return img"
      ]
    },
    {
      "cell_type": "code",
      "execution_count": null,
      "metadata": {
        "id": "2PTTplH_Am9F"
      },
      "outputs": [],
      "source": [
        "# The next cell and this cell are mutually exclusive. Do not execute both.\n",
        "maze = np.array([\n",
        "    [ 1.,  0.,  1.,  1.,  1.,  1.,  1.,  1.],\n",
        "    [ 1.,  0.,  1.,  1.,  1.,  0.,  1.,  1.],\n",
        "    [ 1.,  1.,  1.,  1.,  0.,  1.,  0.,  1.],\n",
        "    [ 1.,  1.,  1.,  0.,  1.,  1.,  1.,  1.],\n",
        "    [ 1.,  1.,  0.,  1.,  1.,  1.,  1.,  1.],\n",
        "    [ 1.,  1.,  1.,  0.,  1.,  0.,  0.,  0.],\n",
        "    [ 1.,  1.,  1.,  0.,  1.,  1.,  1.,  1.],\n",
        "    [ 1.,  1.,  1.,  1.,  0.,  1.,  1.,  1.]\n",
        "])"
      ]
    },
    {
      "cell_type": "code",
      "execution_count": null,
      "metadata": {
        "id": "nXYrCEK_EZ-U",
        "outputId": "a6451d11-5df6-4a57-d65c-f1cf48cbf451"
      },
      "outputs": [
        {
          "data": {
            "text/plain": [
              "'\\nmaze = np.array([\\n    [ 1.,  0.,  1.,  1.,  1.,  1.,  1.,  1.,  1.,  1.],\\n    [ 1.,  1.,  1.,  1.,  1.,  0.,  1.,  1.,  1.,  1.],\\n    [ 1.,  1.,  1.,  1.,  1.,  0.,  1.,  1.,  1.,  1.],\\n    [ 0.,  0.,  1.,  0.,  0.,  1.,  0.,  1.,  1.,  1.],\\n    [ 1.,  1.,  0.,  1.,  0.,  1.,  0.,  0.,  0.,  1.],\\n    [ 1.,  1.,  0.,  1.,  0.,  1.,  1.,  1.,  1.,  1.],\\n    [ 1.,  1.,  1.,  1.,  1.,  1.,  1.,  1.,  1.,  1.],\\n    [ 1.,  1.,  1.,  1.,  1.,  1.,  0.,  0.,  0.,  0.],\\n    [ 1.,  0.,  0.,  0.,  0.,  0.,  1.,  1.,  1.,  1.],\\n    [ 1.,  1.,  1.,  1.,  1.,  1.,  1.,  0.,  1.,  1.]\\n])\\n'"
            ]
          },
          "execution_count": 6,
          "metadata": {},
          "output_type": "execute_result"
        }
      ],
      "source": [
        "# The previous cell and this cell are mutually exclusive. Do not execute both.\n",
        "\"\"\"\n",
        "maze = np.array([\n",
        "    [ 1.,  0.,  1.,  1.,  1.,  1.,  1.,  1.,  1.,  1.],\n",
        "    [ 1.,  1.,  1.,  1.,  1.,  0.,  1.,  1.,  1.,  1.],\n",
        "    [ 1.,  1.,  1.,  1.,  1.,  0.,  1.,  1.,  1.,  1.],\n",
        "    [ 0.,  0.,  1.,  0.,  0.,  1.,  0.,  1.,  1.,  1.],\n",
        "    [ 1.,  1.,  0.,  1.,  0.,  1.,  0.,  0.,  0.,  1.],\n",
        "    [ 1.,  1.,  0.,  1.,  0.,  1.,  1.,  1.,  1.,  1.],\n",
        "    [ 1.,  1.,  1.,  1.,  1.,  1.,  1.,  1.,  1.,  1.],\n",
        "    [ 1.,  1.,  1.,  1.,  1.,  1.,  0.,  0.,  0.,  0.],\n",
        "    [ 1.,  0.,  0.,  0.,  0.,  0.,  1.,  1.,  1.,  1.],\n",
        "    [ 1.,  1.,  1.,  1.,  1.,  1.,  1.,  0.,  1.,  1.]\n",
        "])\n",
        "\"\"\""
      ]
    },
    {
      "cell_type": "code",
      "execution_count": null,
      "metadata": {
        "colab": {
          "base_uri": "https://localhost:8080/",
          "height": 448
        },
        "id": "HTO46kedArMF",
        "outputId": "17a88664-85f2-4b07-96aa-118ca5b86650"
      },
      "outputs": [
        {
          "name": "stdout",
          "output_type": "stream",
          "text": [
            "reward= -0.04\n"
          ]
        },
        {
          "data": {
            "text/plain": [
              "<matplotlib.image.AxesImage at 0x7fbe96fc60a0>"
            ]
          },
          "execution_count": 7,
          "metadata": {},
          "output_type": "execute_result"
        },
        {
          "data": {
            "image/png": "[encoded data removed]",
            "text/plain": [
              "<Figure size 640x480 with 1 Axes>"
            ]
          },
          "metadata": {},
          "output_type": "display_data"
        }
      ],
      "source": [
        "qmaze = Qmaze(maze)\n",
        "canvas, reward, game_over = qmaze.act(DOWN)\n",
        "print(\"reward=\", reward)\n",
        "show(qmaze)"
      ]
    },
    {
      "cell_type": "code",
      "execution_count": null,
      "metadata": {
        "colab": {
          "base_uri": "https://localhost:8080/",
          "height": 429
        },
        "id": "5QOkRblSA3IH",
        "outputId": "820180c0-fe03-490b-b875-8a3939be2364"
      },
      "outputs": [
        {
          "data": {
            "text/plain": [
              "<matplotlib.image.AxesImage at 0x7fbe94eafc70>"
            ]
          },
          "execution_count": 8,
          "metadata": {},
          "output_type": "execute_result"
        },
        {
          "data": {
            "image/png": "[encoded data removed]",
            "text/plain": [
              "<Figure size 640x480 with 1 Axes>"
            ]
          },
          "metadata": {},
          "output_type": "display_data"
        }
      ],
      "source": [
        "qmaze.act(DOWN)  # move down\n",
        "qmaze.act(RIGHT)  # move right\n",
        "qmaze.act(RIGHT)  # move right\n",
        "qmaze.act(RIGHT)  # move right\n",
        "qmaze.act(UP)  # move up\n",
        "show(qmaze)"
      ]
    },
    {
      "cell_type": "code",
      "execution_count": null,
      "metadata": {
        "id": "5Qj1TKfnA9qu"
      },
      "outputs": [],
      "source": [
        "def play_game(model, qmaze, rat_cell):\n",
        "    qmaze.reset(rat_cell)\n",
        "    envstate = qmaze.observe()\n",
        "    while True:\n",
        "        prev_envstate = envstate\n",
        "        # get next action\n",
        "        q = model.predict(prev_envstate, verbose=0)\n",
        "        action = np.argmax(q[0])\n",
        "\n",
        "        # apply action, get rewards and new state\n",
        "        envstate, reward, game_status = qmaze.act(action)\n",
        "        if game_status == 'win':\n",
        "            return True\n",
        "        elif game_status == 'lose':\n",
        "            return False"
      ]
    },
    {
      "cell_type": "code",
      "execution_count": null,
      "metadata": {
        "id": "zw53DdHQBKF0"
      },
      "outputs": [],
      "source": [
        "def completion_check(model, qmaze):\n",
        "    for cell in qmaze.free_cells:\n",
        "        if not qmaze.valid_actions(cell):\n",
        "            return False\n",
        "        if not play_game(model, qmaze, cell):\n",
        "            return False\n",
        "    return True"
      ]
    },
    {
      "cell_type": "code",
      "execution_count": null,
      "metadata": {
        "id": "Bm9WstgwBgjg"
      },
      "outputs": [],
      "source": [
        "class Experience(object):\n",
        "    def __init__(self, model, max_memory=100, discount=0.95):\n",
        "        self.model = model\n",
        "        self.max_memory = max_memory\n",
        "        self.discount = discount\n",
        "        self.memory = list()\n",
        "        self.num_actions = model.output_shape[-1]\n",
        "\n",
        "    def remember(self, episode):\n",
        "        # episode = [envstate, action, reward, envstate_next, game_over]\n",
        "        # memory[i] = episode\n",
        "        # envstate == flattened 1d maze cells info, including rat cell (see method: observe)\n",
        "        self.memory.append(episode)\n",
        "        if len(self.memory) > self.max_memory:\n",
        "            del self.memory[0]\n",
        "\n",
        "    def predict(self, envstate):\n",
        "        return self.model.predict(envstate, verbose=0)[0]\n",
        "\n",
        "    def get_data(self, data_size=10):\n",
        "        env_size = self.memory[0][0].shape[1]   # envstate 1d size (1st element of episode)\n",
        "        mem_size = len(self.memory)\n",
        "        data_size = min(mem_size, data_size)\n",
        "        inputs = np.zeros((data_size, env_size))\n",
        "        targets = np.zeros((data_size, self.num_actions))\n",
        "        for i, j in enumerate(np.random.choice(range(mem_size), data_size, replace=False)):\n",
        "            envstate, action, reward, envstate_next, game_over = self.memory[j]\n",
        "            inputs[i] = envstate\n",
        "            # There should be no target values for actions not taken.\n",
        "            targets[i] = self.predict(envstate)\n",
        "            # Q_sa = derived policy = max quality env/action = max_a' Q(s', a')\n",
        "            Q_sa = np.max(self.predict(envstate_next))\n",
        "            if game_over:\n",
        "                targets[i, action] = reward\n",
        "            else:\n",
        "                # reward + gamma * max_a' Q(s', a')\n",
        "                targets[i, action] = reward + self.discount * Q_sa\n",
        "        return inputs, targets"
      ]
    },
    {
      "cell_type": "code",
      "execution_count": null,
      "metadata": {
        "id": "-QvK92JaBiL7"
      },
      "outputs": [],
      "source": [
        "def qtrain(model, maze, **opt):\n",
        "    global epsilon\n",
        "    n_epoch = opt.get('n_epoch', 15000)\n",
        "    max_memory = opt.get('max_memory', 1000)\n",
        "    data_size = opt.get('data_size', 50)\n",
        "    weights_file = opt.get('weights_file', \"\")\n",
        "    name = opt.get('name', 'model')\n",
        "    start_time = datetime.datetime.now()\n",
        "\n",
        "    # If you want to continue training from a previous model,\n",
        "    # just supply the h5 file name to weights_file option\n",
        "    if weights_file:\n",
        "        print(\"loading weights from file: %s\" % (weights_file,))\n",
        "        model.load_weights(weights_file)\n",
        "\n",
        "    # Construct environment/game from numpy array: maze (see above)\n",
        "    qmaze = Qmaze(maze)\n",
        "\n",
        "    # Initialize experience replay object\n",
        "    experience = Experience(model, max_memory=max_memory)\n",
        "\n",
        "    win_history = []   # history of win/lose game\n",
        "    n_free_cells = len(qmaze.free_cells)\n",
        "    hsize = qmaze.maze.size//2   # history window size\n",
        "    win_rate = 0.0\n",
        "    imctr = 1\n",
        "\n",
        "    for epoch in tqdm(range(n_epoch)):\n",
        "        loss = 0.0\n",
        "        rat_cell = random.choice(qmaze.free_cells)\n",
        "        qmaze.reset(rat_cell)\n",
        "        game_over = False\n",
        "\n",
        "        # get initial envstate (1d flattened canvas)\n",
        "        envstate = qmaze.observe()\n",
        "\n",
        "        n_episodes = 0\n",
        "        while not game_over:\n",
        "            valid_actions = qmaze.valid_actions()\n",
        "            if not valid_actions: break\n",
        "            prev_envstate = envstate\n",
        "            # Get next action\n",
        "            if np.random.rand() < epsilon:\n",
        "                action = random.choice(valid_actions)\n",
        "            else:\n",
        "                action = np.argmax(experience.predict(prev_envstate))\n",
        "\n",
        "            # Apply action, get reward and new envstate\n",
        "            envstate, reward, game_status = qmaze.act(action)\n",
        "            if game_status == 'win':\n",
        "                win_history.append(1)\n",
        "                game_over = True\n",
        "            elif game_status == 'lose':\n",
        "                win_history.append(0)\n",
        "                game_over = True\n",
        "            else:\n",
        "                game_over = False\n",
        "\n",
        "            # Store episode (experience)\n",
        "            episode = [prev_envstate, action, reward, envstate, game_over]\n",
        "            experience.remember(episode)\n",
        "            n_episodes += 1\n",
        "\n",
        "          # Train neural network model\n",
        "            inputs, targets = experience.get_data(data_size=data_size)\n",
        "            h = model.fit(\n",
        "                inputs,\n",
        "                targets,\n",
        "                epochs=8,\n",
        "                batch_size=16,\n",
        "                verbose=0,\n",
        "            )\n",
        "            loss = model.evaluate(inputs, targets, verbose=0)\n",
        "            gc.collect()\n",
        "            clear_session()\n",
        "\n",
        "        if len(win_history) > hsize:\n",
        "            win_rate = sum(win_history[-hsize:]) / hsize\n",
        "\n",
        "        dt = datetime.datetime.now() - start_time\n",
        "        t = format_time(dt.total_seconds())\n",
        "        template = \"Epoch: {:03d}/{:d} | Loss: {:.4f} | Episodes: {:d} | Win count: {:d} | Win rate: {:.3f} | time: {}\"\n",
        "        print(template.format(epoch, n_epoch-1, loss, n_episodes, sum(win_history), win_rate, t))\n",
        "        # we simply check if training has exhausted all free cells and if in all\n",
        "        # cases the agent won\n",
        "        if win_rate > 0.9 : epsilon = 0.05\n",
        "        if sum(win_history[-hsize:]) == hsize and completion_check(model, qmaze):\n",
        "            print(\"Reached 100%% win rate at epoch: %d\" % (epoch,))\n",
        "            break\n",
        "\n",
        "    # Save trained model weights and architecture, this will be used by the visualization code\n",
        "    h5file = name + \".h5\"\n",
        "    json_file = name + \".json\"\n",
        "    model.save_weights(h5file, overwrite=True)\n",
        "    with open(json_file, \"w\") as outfile:\n",
        "        json.dump(model.to_json(), outfile)\n",
        "    end_time = datetime.datetime.now()\n",
        "    dt = datetime.datetime.now() - start_time\n",
        "    seconds = dt.total_seconds()\n",
        "    t = format_time(seconds)\n",
        "    print('files: %s, %s' % (h5file, json_file))\n",
        "    print(\"n_epoch: %d, max_mem: %d, data: %d, time: %s\" % (epoch, max_memory, data_size, t))\n",
        "    return seconds\n",
        "\n",
        "# This is a small utility for printing readable time strings:\n",
        "def format_time(seconds):\n",
        "    if seconds < 400:\n",
        "        s = float(seconds)\n",
        "        return \"%.1f seconds\" % (s,)\n",
        "    elif seconds < 4000:\n",
        "        m = seconds / 60.0\n",
        "        return \"%.2f minutes\" % (m,)\n",
        "    else:\n",
        "        h = seconds / 3600.0\n",
        "        return \"%.2f hours\" % (h,)"
      ]
    },
    {
      "cell_type": "code",
      "execution_count": null,
      "metadata": {
        "id": "7W6tHgyyBzrr"
      },
      "outputs": [],
      "source": [
        "def build_model(maze, lr=0.001):\n",
        "    model = Sequential()\n",
        "    model.add(Dense(maze.size, input_shape=(maze.size,)))\n",
        "    model.add(PReLU())\n",
        "    model.add(Dense(maze.size))\n",
        "    model.add(PReLU())\n",
        "    model.add(Dense(num_actions))\n",
        "    model.compile(optimizer='adam', loss='mse')\n",
        "    return model"
      ]
    },
    {
      "cell_type": "code",
      "execution_count": null,
      "metadata": {
        "colab": {
          "base_uri": "https://localhost:8080/",
          "height": 429
        },
        "id": "gUWPPKi6B5tj",
        "outputId": "92927db5-352a-4d36-c65e-c4c8ab373bac"
      },
      "outputs": [
        {
          "data": {
            "text/plain": [
              "<matplotlib.image.AxesImage at 0x7fbe94e2beb0>"
            ]
          },
          "execution_count": 14,
          "metadata": {},
          "output_type": "execute_result"
        },
        {
          "data": {
            "image/png": "[encoded data removed]",
            "text/plain": [
              "<Figure size 640x480 with 1 Axes>"
            ]
          },
          "metadata": {},
          "output_type": "display_data"
        }
      ],
      "source": [
        "# The next cell and this cell are mutually exclusive. Do not execute both.\n",
        "maze =  np.array([\n",
        "    [ 1.,  0.,  1.,  1.,  1.,  1.,  1.],\n",
        "    [ 1.,  1.,  1.,  0.,  0.,  1.,  0.],\n",
        "    [ 0.,  0.,  0.,  1.,  1.,  1.,  0.],\n",
        "    [ 1.,  1.,  1.,  1.,  0.,  0.,  1.],\n",
        "    [ 1.,  0.,  0.,  0.,  1.,  1.,  1.],\n",
        "    [ 1.,  0.,  1.,  1.,  1.,  1.,  1.],\n",
        "    [ 1.,  1.,  1.,  0.,  1.,  1.,  1.]\n",
        "])\n",
        "\n",
        "qmaze = Qmaze(maze)\n",
        "show(qmaze)"
      ]
    },
    {
      "cell_type": "code",
      "execution_count": null,
      "metadata": {
        "colab": {
          "base_uri": "https://localhost:8080/",
          "height": 429
        },
        "id": "sXIvaUxDE2tE",
        "outputId": "cacea224-36e2-47e0-8b89-653d2dea4b57"
      },
      "outputs": [
        {
          "data": {
            "text/plain": [
              "'\\nmaze = np.array([\\n    [ 1.,  0.,  1.,  1.,  1.,  1.,  1.,  1.,  1.,  1.],\\n    [ 1.,  1.,  1.,  1.,  1.,  0.,  1.,  1.,  1.,  1.],\\n    [ 1.,  1.,  1.,  1.,  1.,  0.,  1.,  1.,  1.,  1.],\\n    [ 0.,  0.,  1.,  0.,  0.,  1.,  0.,  1.,  1.,  1.],\\n    [ 1.,  1.,  0.,  1.,  0.,  1.,  0.,  0.,  0.,  1.],\\n    [ 1.,  1.,  0.,  1.,  0.,  1.,  1.,  1.,  1.,  1.],\\n    [ 1.,  1.,  1.,  1.,  1.,  1.,  1.,  1.,  1.,  1.],\\n    [ 1.,  1.,  1.,  1.,  1.,  1.,  0.,  0.,  0.,  0.],\\n    [ 1.,  0.,  0.,  0.,  0.,  0.,  1.,  1.,  1.,  1.],\\n    [ 1.,  1.,  1.,  1.,  1.,  1.,  1.,  0.,  1.,  1.]\\n])\\nqmaze = Qmaze(maze)\\nshow(qmaze)\\n'"
            ]
          },
          "execution_count": 16,
          "metadata": {},
          "output_type": "execute_result"
        }
      ],
      "source": [
        "# The previous cell and this cell are mutually exclusive. Do not execute both.\n",
        "\"\"\"\n",
        "maze = np.array([\n",
        "    [ 1.,  0.,  1.,  1.,  1.,  1.,  1.,  1.,  1.,  1.],\n",
        "    [ 1.,  1.,  1.,  1.,  1.,  0.,  1.,  1.,  1.,  1.],\n",
        "    [ 1.,  1.,  1.,  1.,  1.,  0.,  1.,  1.,  1.,  1.],\n",
        "    [ 0.,  0.,  1.,  0.,  0.,  1.,  0.,  1.,  1.,  1.],\n",
        "    [ 1.,  1.,  0.,  1.,  0.,  1.,  0.,  0.,  0.,  1.],\n",
        "    [ 1.,  1.,  0.,  1.,  0.,  1.,  1.,  1.,  1.,  1.],\n",
        "    [ 1.,  1.,  1.,  1.,  1.,  1.,  1.,  1.,  1.,  1.],\n",
        "    [ 1.,  1.,  1.,  1.,  1.,  1.,  0.,  0.,  0.,  0.],\n",
        "    [ 1.,  0.,  0.,  0.,  0.,  0.,  1.,  1.,  1.,  1.],\n",
        "    [ 1.,  1.,  1.,  1.,  1.,  1.,  1.,  0.,  1.,  1.]\n",
        "])\n",
        "qmaze = Qmaze(maze)\n",
        "show(qmaze)\n",
        "\"\"\""
      ]
    },
    {
      "cell_type": "code",
      "execution_count": null,
      "metadata": {
        "colab": {
          "base_uri": "https://localhost:8080/",
          "height": 360,
          "referenced_widgets": [
            "9a73027a915f432a9991c9fedc8329bc",
            "443ca4a41e214b9bab4824bd098550be",
            "270056c5cac8419fa76d61fc363fb7f0",
            "a94f97806e8b42c9a95e004da825da7a",
            "e50f32e978df4257b4ebff28133de52a",
            "643100268d2140099c398bfb835f79e3",
            "57d355d7ed0c487b869ea9b75c85c02e",
            "fa030f92e5c54da7b5abd51e53734d2e",
            "6e6f85fc41bd4f1b8c4ee35901d53829",
            "be5b8279d6454a8d83b3b199960bdfbf",
            "b72c8885a9fc4502994ed622ba77b5f9",
            "d155e3c3ccae43e69282a5b60a81142a"
          ]
        },
        "id": "wK9lCeTACAcy",
        "outputId": "2d0973e5-d5b5-479e-9191-0aab801bd21f"
      },
      "outputs": [
        {
          "name": "stderr",
          "output_type": "stream",
          "text": [
            "2023-06-23 14:09:18.479617: I tensorflow/stream_executor/cuda/cuda_gpu_executor.cc:961] could not open file to read NUMA node: /sys/bus/pci/devices/0000:05:00.0/numa_node\n",
            "Your kernel may have been built without NUMA support.\n",
            "2023-06-23 14:09:18.484014: I tensorflow/stream_executor/cuda/cuda_gpu_executor.cc:961] could not open file to read NUMA node: /sys/bus/pci/devices/0000:05:00.0/numa_node\n",
            "Your kernel may have been built without NUMA support.\n",
            "2023-06-23 14:09:18.484262: I tensorflow/stream_executor/cuda/cuda_gpu_executor.cc:961] could not open file to read NUMA node: /sys/bus/pci/devices/0000:05:00.0/numa_node\n",
            "Your kernel may have been built without NUMA support.\n",
            "2023-06-23 14:09:18.484795: I tensorflow/core/platform/cpu_feature_guard.cc:193] This TensorFlow binary is optimized with oneAPI Deep Neural Network Library (oneDNN) to use the following CPU instructions in performance-critical operations:  AVX2 FMA\n",
            "To enable them in other operations, rebuild TensorFlow with the appropriate compiler flags.\n",
            "2023-06-23 14:09:18.485886: I tensorflow/stream_executor/cuda/cuda_gpu_executor.cc:961] could not open file to read NUMA node: /sys/bus/pci/devices/0000:05:00.0/numa_node\n",
            "Your kernel may have been built without NUMA support.\n",
            "2023-06-23 14:09:18.486091: I tensorflow/stream_executor/cuda/cuda_gpu_executor.cc:961] could not open file to read NUMA node: /sys/bus/pci/devices/0000:05:00.0/numa_node\n",
            "Your kernel may have been built without NUMA support.\n",
            "2023-06-23 14:09:18.486265: I tensorflow/stream_executor/cuda/cuda_gpu_executor.cc:961] could not open file to read NUMA node: /sys/bus/pci/devices/0000:05:00.0/numa_node\n",
            "Your kernel may have been built without NUMA support.\n",
            "2023-06-23 14:09:19.001646: I tensorflow/stream_executor/cuda/cuda_gpu_executor.cc:961] could not open file to read NUMA node: /sys/bus/pci/devices/0000:05:00.0/numa_node\n",
            "Your kernel may have been built without NUMA support.\n",
            "2023-06-23 14:09:19.002140: I tensorflow/stream_executor/cuda/cuda_gpu_executor.cc:961] could not open file to read NUMA node: /sys/bus/pci/devices/0000:05:00.0/numa_node\n",
            "Your kernel may have been built without NUMA support.\n",
            "2023-06-23 14:09:19.002160: I tensorflow/core/common_runtime/gpu/gpu_device.cc:1616] Could not identify NUMA node of platform GPU id 0, defaulting to 0.  Your kernel may not have been built with NUMA support.\n",
            "2023-06-23 14:09:19.002451: I tensorflow/stream_executor/cuda/cuda_gpu_executor.cc:961] could not open file to read NUMA node: /sys/bus/pci/devices/0000:05:00.0/numa_node\n",
            "Your kernel may have been built without NUMA support.\n",
            "2023-06-23 14:09:19.002506: I tensorflow/core/common_runtime/gpu/gpu_device.cc:1532] Created device /job:localhost/replica:0/task:0/device:GPU:0 with 5411 MB memory:  -> device: 0, name: NVIDIA GeForce RTX 3070, pci bus id: 0000:05:00.0, compute capability: 8.6\n"
          ]
        },
        {
          "data": {
            "application/vnd.jupyter.widget-view+json": {
              "model_id": "d155e3c3ccae43e69282a5b60a81142a",
              "version_major": 2,
              "version_minor": 0
            },
            "text/plain": [
              "  0%|          | 0/1000 [00:00<?, ?it/s]"
            ]
          },
          "metadata": {},
          "output_type": "display_data"
        },
        {
          "name": "stderr",
          "output_type": "stream",
          "text": [
            "2023-06-23 14:09:20.274944: I tensorflow/stream_executor/cuda/cuda_blas.cc:1786] TensorFloat-32 will be used for the matrix multiplication. This will only be logged once.\n"
          ]
        },
        {
          "name": "stdout",
          "output_type": "stream",
          "text": [
            "Epoch: 000/999 | Loss: 0.0303 | Episodes: 6 | Win count: 1 | Win rate: 0.000 | time: 3.6 seconds\n",
            "Epoch: 001/999 | Loss: 0.0046 | Episodes: 36 | Win count: 2 | Win rate: 0.000 | time: 57.5 seconds\n",
            "Epoch: 002/999 | Loss: 0.0058 | Episodes: 25 | Win count: 3 | Win rate: 0.000 | time: 108.4 seconds\n",
            "Epoch: 003/999 | Loss: 0.0016 | Episodes: 110 | Win count: 3 | Win rate: 0.000 | time: 307.5 seconds\n",
            "Epoch: 004/999 | Loss: 0.0037 | Episodes: 4 | Win count: 4 | Win rate: 0.000 | time: 314.6 seconds\n",
            "Epoch: 005/999 | Loss: 0.0012 | Episodes: 70 | Win count: 5 | Win rate: 0.000 | time: 7.35 minutes\n",
            "Epoch: 006/999 | Loss: 0.0046 | Episodes: 35 | Win count: 6 | Win rate: 0.000 | time: 8.46 minutes\n",
            "Epoch: 007/999 | Loss: 0.0036 | Episodes: 5 | Win count: 7 | Win rate: 0.000 | time: 8.61 minutes\n",
            "Epoch: 008/999 | Loss: 0.0034 | Episodes: 104 | Win count: 7 | Win rate: 0.000 | time: 11.83 minutes\n",
            "Epoch: 009/999 | Loss: 0.0046 | Episodes: 22 | Win count: 8 | Win rate: 0.000 | time: 12.54 minutes\n",
            "Epoch: 010/999 | Loss: 0.0031 | Episodes: 3 | Win count: 9 | Win rate: 0.000 | time: 12.63 minutes\n",
            "Epoch: 011/999 | Loss: 0.0159 | Episodes: 23 | Win count: 10 | Win rate: 0.000 | time: 13.34 minutes\n",
            "Epoch: 012/999 | Loss: 0.0038 | Episodes: 28 | Win count: 11 | Win rate: 0.000 | time: 14.20 minutes\n",
            "Epoch: 013/999 | Loss: 0.0027 | Episodes: 5 | Win count: 12 | Win rate: 0.000 | time: 14.36 minutes\n",
            "Epoch: 014/999 | Loss: 0.0022 | Episodes: 4 | Win count: 13 | Win rate: 0.000 | time: 14.48 minutes\n",
            "Epoch: 015/999 | Loss: 0.0032 | Episodes: 104 | Win count: 13 | Win rate: 0.000 | time: 17.84 minutes\n",
            "Epoch: 016/999 | Loss: 0.0059 | Episodes: 3 | Win count: 14 | Win rate: 0.000 | time: 17.94 minutes\n",
            "Epoch: 017/999 | Loss: 0.0044 | Episodes: 22 | Win count: 15 | Win rate: 0.000 | time: 18.64 minutes\n",
            "Epoch: 018/999 | Loss: 0.0023 | Episodes: 20 | Win count: 16 | Win rate: 0.000 | time: 19.28 minutes\n",
            "Epoch: 019/999 | Loss: 0.0012 | Episodes: 16 | Win count: 17 | Win rate: 0.000 | time: 19.79 minutes\n",
            "Epoch: 020/999 | Loss: 0.0009 | Episodes: 19 | Win count: 18 | Win rate: 0.000 | time: 20.43 minutes\n",
            "Epoch: 021/999 | Loss: 0.0010 | Episodes: 23 | Win count: 19 | Win rate: 0.000 | time: 21.17 minutes\n",
            "Epoch: 022/999 | Loss: 0.0008 | Episodes: 37 | Win count: 20 | Win rate: 0.000 | time: 22.36 minutes\n",
            "Epoch: 023/999 | Loss: 0.0013 | Episodes: 44 | Win count: 21 | Win rate: 0.000 | time: 23.79 minutes\n",
            "Epoch: 024/999 | Loss: 0.0035 | Episodes: 7 | Win count: 22 | Win rate: 0.875 | time: 24.01 minutes\n",
            "Epoch: 025/999 | Loss: 0.0019 | Episodes: 12 | Win count: 23 | Win rate: 0.875 | time: 24.40 minutes\n",
            "Epoch: 026/999 | Loss: 0.0092 | Episodes: 21 | Win count: 24 | Win rate: 0.875 | time: 25.07 minutes\n",
            "Epoch: 027/999 | Loss: 0.0024 | Episodes: 4 | Win count: 25 | Win rate: 0.917 | time: 25.20 minutes\n",
            "Epoch: 028/999 | Loss: 0.0024 | Episodes: 21 | Win count: 26 | Win rate: 0.917 | time: 25.87 minutes\n",
            "Epoch: 029/999 | Loss: 0.0006 | Episodes: 3 | Win count: 27 | Win rate: 0.917 | time: 25.97 minutes\n",
            "Epoch: 030/999 | Loss: 0.0018 | Episodes: 4 | Win count: 28 | Win rate: 0.917 | time: 26.10 minutes\n",
            "Epoch: 031/999 | Loss: 0.0012 | Episodes: 5 | Win count: 29 | Win rate: 0.917 | time: 26.26 minutes\n",
            "Epoch: 032/999 | Loss: 0.0015 | Episodes: 4 | Win count: 30 | Win rate: 0.958 | time: 26.39 minutes\n",
            "Epoch: 033/999 | Loss: 0.0036 | Episodes: 4 | Win count: 31 | Win rate: 0.958 | time: 26.52 minutes\n",
            "Epoch: 034/999 | Loss: 0.0021 | Episodes: 4 | Win count: 32 | Win rate: 0.958 | time: 26.65 minutes\n",
            "Epoch: 035/999 | Loss: 0.0017 | Episodes: 2 | Win count: 33 | Win rate: 0.958 | time: 26.72 minutes\n",
            "Epoch: 036/999 | Loss: 0.0087 | Episodes: 15 | Win count: 34 | Win rate: 0.958 | time: 27.21 minutes\n",
            "Epoch: 037/999 | Loss: 0.0018 | Episodes: 28 | Win count: 35 | Win rate: 0.958 | time: 28.13 minutes\n",
            "Epoch: 038/999 | Loss: 0.0008 | Episodes: 15 | Win count: 36 | Win rate: 0.958 | time: 28.63 minutes\n",
            "Epoch: 039/999 | Loss: 0.0011 | Episodes: 30 | Win count: 37 | Win rate: 1.000 | time: 29.62 minutes\n",
            "Epoch: 040/999 | Loss: 0.0009 | Episodes: 39 | Win count: 38 | Win rate: 1.000 | time: 30.94 minutes\n",
            "Epoch: 041/999 | Loss: 0.0003 | Episodes: 23 | Win count: 39 | Win rate: 1.000 | time: 31.73 minutes\n",
            "Epoch: 042/999 | Loss: 0.0013 | Episodes: 20 | Win count: 40 | Win rate: 1.000 | time: 32.41 minutes\n",
            "Epoch: 043/999 | Loss: 0.0009 | Episodes: 17 | Win count: 41 | Win rate: 1.000 | time: 33.00 minutes\n",
            "Epoch: 044/999 | Loss: 0.0008 | Episodes: 5 | Win count: 42 | Win rate: 1.000 | time: 33.21 minutes\n",
            "Epoch: 045/999 | Loss: 0.0009 | Episodes: 1 | Win count: 43 | Win rate: 1.000 | time: 33.28 minutes\n",
            "Epoch: 046/999 | Loss: 0.0007 | Episodes: 8 | Win count: 44 | Win rate: 1.000 | time: 33.58 minutes\n",
            "Epoch: 047/999 | Loss: 0.0005 | Episodes: 37 | Win count: 45 | Win rate: 1.000 | time: 34.84 minutes\n",
            "Epoch: 048/999 | Loss: 0.0009 | Episodes: 22 | Win count: 46 | Win rate: 1.000 | time: 35.62 minutes\n",
            "Reached 100% win rate at epoch: 48\n",
            "files: model.h5, model.json\n",
            "n_epoch: 48, max_mem: 392, data: 32, time: 35.80 minutes\n"
          ]
        },
        {
          "data": {
            "text/plain": [
              "2147.863282"
            ]
          },
          "execution_count": 17,
          "metadata": {},
          "output_type": "execute_result"
        }
      ],
      "source": [
        "model = build_model(maze)\n",
        "qtrain(model, maze, n_epoch=1000, max_memory=8*maze.size, data_size=32)"
      ]
    },
    {
      "cell_type": "markdown",
      "metadata": {
        "id": "ERXGZRE8rz7U"
      },
      "source": [
        "**Trajectory generated from a random point with the trained network**"
      ]
    },
    {
      "cell_type": "code",
      "execution_count": null,
      "metadata": {
        "id": "oj3EC2GBDkYu",
        "outputId": "e4179fd9-66d8-4266-9cd7-04d4eec16662"
      },
      "outputs": [
        {
          "data": {
            "image/png": "[encoded data removed]",
            "text/plain": [
              "<Figure size 640x480 with 1 Axes>"
            ]
          },
          "metadata": {},
          "output_type": "display_data"
        },
        {
          "data": {
            "image/png": "[encoded data removed]",
            "text/plain": [
              "<Figure size 640x480 with 1 Axes>"
            ]
          },
          "metadata": {},
          "output_type": "display_data"
        }
      ],
      "source": [
        "rat_cell = random.choice(qmaze.free_cells)\n",
        "qmaze.reset(rat_cell)\n",
        "envstate = qmaze.observe()\n",
        "game_status = 'lose'\n",
        "while(game_status != 'win'):\n",
        "  q = model.predict(envstate)\n",
        "  action = np.argmax(q[0])\n",
        "  # action = np.argmax(model.predict(envstate))\n",
        "  envstate, reward, game_status = qmaze.act(action)\n",
        "  show(qmaze)\n",
        "  display.clear_output(wait=True)\n",
        "  display.display(pl.gcf())\n",
        "  plt.gca().clear()\n",
        "  sleep(0.2)"
      ]
    },
    {
      "cell_type": "code",
      "execution_count": null,
      "metadata": {
        "id": "7w9ScypSsUhJ",
        "outputId": "24de3759-f046-4253-9123-242c770efe2b"
      },
      "outputs": [
        {
          "name": "stdout",
          "output_type": "stream",
          "text": [
            "1/1 [==============================] - 0s 10ms/step\n",
            "1/1 [==============================] - 0s 13ms/step\n",
            "1/1 [==============================] - 0s 11ms/step\n",
            "1/1 [==============================] - 0s 10ms/step\n",
            "1/1 [==============================] - 0s 11ms/step\n",
            "1/1 [==============================] - 0s 10ms/step\n",
            "1/1 [==============================] - 0s 10ms/step\n",
            "1/1 [==============================] - 0s 12ms/step\n",
            "1/1 [==============================] - 0s 10ms/step\n",
            "1/1 [==============================] - 0s 10ms/step\n",
            "1/1 [==============================] - 0s 10ms/step\n",
            "1/1 [==============================] - 0s 10ms/step\n",
            "1/1 [==============================] - 0s 10ms/step\n",
            "1/1 [==============================] - 0s 9ms/step\n",
            "1/1 [==============================] - 0s 11ms/step\n",
            "1/1 [==============================] - 0s 9ms/step\n",
            "1/1 [==============================] - 0s 10ms/step\n",
            "1/1 [==============================] - 0s 11ms/step\n",
            "1/1 [==============================] - 0s 10ms/step\n",
            "1/1 [==============================] - 0s 9ms/step\n",
            "1/1 [==============================] - 0s 9ms/step\n",
            "1/1 [==============================] - 0s 9ms/step\n",
            "1/1 [==============================] - 0s 11ms/step\n",
            "1/1 [==============================] - 0s 9ms/step\n",
            "1/1 [==============================] - 0s 10ms/step\n",
            "1/1 [==============================] - 0s 9ms/step\n",
            "1/1 [==============================] - 0s 12ms/step\n",
            "1/1 [==============================] - 0s 9ms/step\n",
            "1/1 [==============================] - 0s 10ms/step\n",
            "1/1 [==============================] - 0s 9ms/step\n",
            "1/1 [==============================] - 0s 11ms/step\n",
            "1/1 [==============================] - 0s 9ms/step\n",
            "1/1 [==============================] - 0s 10ms/step\n"
          ]
        },
        {
          "data": {
            "image/png": "[encoded data removed]",
            "text/plain": [
              "<Figure size 640x480 with 1 Axes>"
            ]
          },
          "metadata": {},
          "output_type": "display_data"
        }
      ],
      "source": [
        "# Exhibition of the maximum Q value at each state of the environment\n",
        "directions = []\n",
        "for rat_cell in qmaze.free_cells:\n",
        "    qmaze.reset(rat_cell)\n",
        "    envstate = qmaze.observe()\n",
        "    q = model.predict(envstate)\n",
        "    action = np.argmax(q[0])\n",
        "    if action == 0:\n",
        "        directions.append('<b')\n",
        "    elif action == 1:\n",
        "        directions.append('^b')\n",
        "    elif action == 2:\n",
        "        directions.append('>b')\n",
        "    else:\n",
        "        directions.append('vb')\n",
        "\n",
        "rat_cell = (0,0)\n",
        "qmaze.reset(rat_cell)\n",
        "show(qmaze)\n",
        "k = 0\n",
        "for point in qmaze.free_cells:\n",
        "    plt.plot(point[1],point[0],directions[k])\n",
        "    k = k + 1"
      ]
    },
    {
      "cell_type": "code",
      "execution_count": null,
      "metadata": {
        "id": "rvFvasXVtWcC",
        "outputId": "dc37d67a-abc7-4275-ad9d-9024482222ce"
      },
      "outputs": [
        {
          "name": "stdout",
          "output_type": "stream",
          "text": [
            "1/1 [==============================] - 0s 9ms/step\n",
            "1/1 [==============================] - 0s 10ms/step\n",
            "1/1 [==============================] - 0s 9ms/step\n",
            "1/1 [==============================] - 0s 10ms/step\n",
            "Q-Valor (0,0)\n",
            "< : -0.912\n",
            "^ : -1.165\n",
            "> : -0.821\n",
            "v : -0.476\n",
            "\n",
            "Q-Valor (3,1)\n",
            "< :  0.137\n",
            "^ : -0.521\n",
            "> : -0.328\n",
            "v :  0.020\n",
            "\n",
            "Q-Valor (5,5)\n",
            "< :  0.136\n",
            "^ : -0.127\n",
            "> : -0.029\n",
            "v :  0.885\n",
            "\n",
            "Q-Valor (5,6)\n",
            "< :  0.850\n",
            "^ : -0.560\n",
            "> :  0.386\n",
            "v : -0.229\n"
          ]
        },
        {
          "data": {
            "image/png": "[encoded data removed]",
            "text/plain": [
              "<Figure size 640x480 with 1 Axes>"
            ]
          },
          "metadata": {},
          "output_type": "display_data"
        },
        {
          "data": {
            "image/png": "[encoded data removed]",
            "text/plain": [
              "<Figure size 640x480 with 1 Axes>"
            ]
          },
          "metadata": {},
          "output_type": "display_data"
        },
        {
          "data": {
            "image/png": "[encoded data removed]",
            "text/plain": [
              "<Figure size 640x480 with 1 Axes>"
            ]
          },
          "metadata": {},
          "output_type": "display_data"
        },
        {
          "data": {
            "image/png": "[encoded data removed]",
            "text/plain": [
              "<Figure size 640x480 with 1 Axes>"
            ]
          },
          "metadata": {},
          "output_type": "display_data"
        }
      ],
      "source": [
        "# Explicit Q values for some relevant states of the environment.\n",
        "for rat_cell in qmaze.free_cells:\n",
        "    qmaze.reset(rat_cell)\n",
        "    envstate = qmaze.observe()\n",
        "    q = model.predict(envstate, verbose=0)\n",
        "    action = np.argmax(q[0])\n",
        "    if action == 0:\n",
        "        directions.append('<b')\n",
        "    elif action == 1:\n",
        "        directions.append('^b')\n",
        "    elif action == 2:\n",
        "        directions.append('>b')\n",
        "    else:\n",
        "        directions.append('vb')\n",
        "\n",
        "plt.figure(0)\n",
        "rat_cell = (0,0)\n",
        "qmaze.reset(rat_cell)\n",
        "envstate = qmaze.observe()\n",
        "q0 = model.predict(envstate)\n",
        "show(qmaze)\n",
        "k = 0\n",
        "for point in qmaze.free_cells:\n",
        "    plt.plot(point[1],point[0],directions[k])\n",
        "    k = k + 1\n",
        "\n",
        "plt.figure(1)\n",
        "rat_cell = (3,1)\n",
        "qmaze.reset(rat_cell)\n",
        "envstate = qmaze.observe()\n",
        "q1 = model.predict(envstate)\n",
        "show(qmaze)\n",
        "k = 0\n",
        "for point in qmaze.free_cells:\n",
        "    plt.plot(point[1],point[0],directions[k])\n",
        "    k = k + 1\n",
        "\n",
        "plt.figure(2)\n",
        "rat_cell = (5,5)\n",
        "qmaze.reset(rat_cell)\n",
        "envstate = qmaze.observe()\n",
        "q2 = model.predict(envstate)\n",
        "show(qmaze)\n",
        "k = 0\n",
        "for point in qmaze.free_cells:\n",
        "    plt.plot(point[1],point[0],directions[k])\n",
        "    k = k + 1\n",
        "\n",
        "plt.figure(3)\n",
        "rat_cell = (5,6)\n",
        "qmaze.reset(rat_cell)\n",
        "envstate = qmaze.observe()\n",
        "q3 = model.predict(envstate)\n",
        "show(qmaze)\n",
        "k = 0\n",
        "for point in qmaze.free_cells:\n",
        "    plt.plot(point[1],point[0],directions[k])\n",
        "    k = k + 1\n",
        "\n",
        "print('Q-Valor (0,0)\\n< : {:6.3f}\\n^ : {:6.3f}\\n> : {:6.3f}\\nv : {:6.3f}\\n'.format(q0[0,0],q0[0,1],q0[0,2],q0[0,3]))\n",
        "print('Q-Valor (3,1)\\n< : {:6.3f}\\n^ : {:6.3f}\\n> : {:6.3f}\\nv : {:6.3f}\\n'.format(q1[0,0],q1[0,1],q1[0,2],q1[0,3]))\n",
        "print('Q-Valor (5,5)\\n< : {:6.3f}\\n^ : {:6.3f}\\n> : {:6.3f}\\nv : {:6.3f}\\n'.format(q2[0,0],q2[0,1],q2[0,2],q2[0,3]))\n",
        "print('Q-Valor (5,6)\\n< : {:6.3f}\\n^ : {:6.3f}\\n> : {:6.3f}\\nv : {:6.3f}'.format(q3[0,0],q3[0,1],q3[0,2],q3[0,3]))"
      ]
    },
    {
      "cell_type": "markdown",
      "source": [
        "**(2)** Explique como é definida a função de erro quadrático médio usada no treinamento.\n",
        "\n",
        "A função de erro quadrático médio (MSE - Mean Squared Error) é usada para definir o erro entre a saída prevista pelo modelo e o valor real. No código apresentado, o MSE é usado como uma medida de erro para ajustar os pesos do modelo durante o treinamento de uma rede neural.\n",
        "\n",
        "O treinamento ocorre em um ambiente de labirinto onde um rato deve encontrar o queijo em um labirinto representado por uma matriz. O objetivo é aprender uma política que permita ao rato encontrar o queijo com o menor número de ações possíveis.\n",
        "\n",
        "A função **qtrain** é responsável por treinar o modelo usando a técnica de Reinforcement Learning. Durante o treinamento, a função **qtrain** utiliza o algoritmo Q-Learning para atualizar a política do rato.\n",
        "\n",
        "O algoritmo Q-Learning é baseado em uma função Q, que mapeia o estado atual e a ação para um valor que representa a \"qualidade\" dessa ação em relação ao estado atual. O objetivo é aprender a função Q ideal, que maximiza a recompensa total ao longo do tempo.\n",
        "\n",
        "O modelo neural utilizado é uma rede neural sequencial com uma camada densa e uma camada de ativação. A função **predict** do modelo retorna a saída prevista para um determinado estado.\n",
        "\n",
        "O objetivo do treinamento é ajustar os pesos do modelo de forma a minimizar o erro entre a saída prevista e o valor real. O MSE é calculado como a média dos quadrados das diferenças entre as saídas previstas e os valores esperados.\n",
        "\n",
        "No código apresentado, a função **qtrain** utiliza a classe **Experience** para armazenar e recuperar episódios de treinamento. Cada episódio consiste em um estado do ambiente, uma ação, uma recompensa, o próximo estado e um indicador de término do jogo.\n",
        "\n",
        "A função **get_data** da classe **Experience** é utilizada para obter um conjunto de dados de treinamento a partir da memória dos episódios. Esse conjunto de dados consiste em entradas (estados) e alvos (valores Q esperados) para o treinamento do modelo. O MSE é calculado comparando as saídas previstas pelo modelo para as entradas com os alvos correspondentes.\n",
        "\n",
        "Durante o treinamento, os pesos do modelo são atualizados iterativamente usando o otimizador RMSprop. A taxa de aprendizado e o fator de desconto também são parâmetros configuráveis no treinamento.\n",
        "\n",
        "Em resumo, a função de erro quadrático médio (MSE) é usada para avaliar a diferença entre as saídas previstas pelo modelo e os valores esperados durante o treinamento de uma rede neural no contexto do algoritmo Q-Learning. O objetivo é ajustar os pesos do modelo de forma a minimizar esse erro e aprender uma política ótima para o rato encontrar o queijo no labirinto."
      ],
      "metadata": {
        "id": "_TpbMB2S6pAU"
      }
    },
    {
      "cell_type": "code",
      "execution_count": null,
      "metadata": {
        "id": "VteR7A8y4VEo"
      },
      "outputs": [],
      "source": []
    }
  ],
  "metadata": {
    "accelerator": "GPU",
    "colab": {
      "gpuType": "T4",
      "provenance": [],
      "include_colab_link": true
    },
    "kernelspec": {
      "display_name": "Python 3 (ipykernel)",
      "language": "python",
      "name": "python3"
    },
    "language_info": {
      "codemirror_mode": {
        "name": "ipython",
        "version": 3
      },
      "file_extension": ".py",
      "mimetype": "text/x-python",
      "name": "python",
      "nbconvert_exporter": "python",
      "pygments_lexer": "ipython3",
      "version": "3.8.10"
    },
    "widgets": {
      "application/vnd.jupyter.widget-state+json": {
        "270056c5cac8419fa76d61fc363fb7f0": {
          "model_module": "@jupyter-widgets/controls",
          "model_module_version": "1.5.0",
          "model_name": "FloatProgressModel",
          "state": {
            "_dom_classes": [],
            "_model_module": "@jupyter-widgets/controls",
            "_model_module_version": "1.5.0",
            "_model_name": "FloatProgressModel",
            "_view_count": null,
            "_view_module": "@jupyter-widgets/controls",
            "_view_module_version": "1.5.0",
            "_view_name": "ProgressView",
            "bar_style": "",
            "description": "",
            "description_tooltip": null,
            "layout": "IPY_MODEL_fa030f92e5c54da7b5abd51e53734d2e",
            "max": 1000,
            "min": 0,
            "orientation": "horizontal",
            "style": "IPY_MODEL_6e6f85fc41bd4f1b8c4ee35901d53829",
            "value": 17
          }
        },
        "443ca4a41e214b9bab4824bd098550be": {
          "model_module": "@jupyter-widgets/controls",
          "model_module_version": "1.5.0",
          "model_name": "HTMLModel",
          "state": {
            "_dom_classes": [],
            "_model_module": "@jupyter-widgets/controls",
            "_model_module_version": "1.5.0",
            "_model_name": "HTMLModel",
            "_view_count": null,
            "_view_module": "@jupyter-widgets/controls",
            "_view_module_version": "1.5.0",
            "_view_name": "HTMLView",
            "description": "",
            "description_tooltip": null,
            "layout": "IPY_MODEL_643100268d2140099c398bfb835f79e3",
            "placeholder": "​",
            "style": "IPY_MODEL_57d355d7ed0c487b869ea9b75c85c02e",
            "value": "  2%"
          }
        },
        "57d355d7ed0c487b869ea9b75c85c02e": {
          "model_module": "@jupyter-widgets/controls",
          "model_module_version": "1.5.0",
          "model_name": "DescriptionStyleModel",
          "state": {
            "_model_module": "@jupyter-widgets/controls",
            "_model_module_version": "1.5.0",
            "_model_name": "DescriptionStyleModel",
            "_view_count": null,
            "_view_module": "@jupyter-widgets/base",
            "_view_module_version": "1.2.0",
            "_view_name": "StyleView",
            "description_width": ""
          }
        },
        "643100268d2140099c398bfb835f79e3": {
          "model_module": "@jupyter-widgets/base",
          "model_module_version": "1.2.0",
          "model_name": "LayoutModel",
          "state": {
            "_model_module": "@jupyter-widgets/base",
            "_model_module_version": "1.2.0",
            "_model_name": "LayoutModel",
            "_view_count": null,
            "_view_module": "@jupyter-widgets/base",
            "_view_module_version": "1.2.0",
            "_view_name": "LayoutView",
            "align_content": null,
            "align_items": null,
            "align_self": null,
            "border": null,
            "bottom": null,
            "display": null,
            "flex": null,
            "flex_flow": null,
            "grid_area": null,
            "grid_auto_columns": null,
            "grid_auto_flow": null,
            "grid_auto_rows": null,
            "grid_column": null,
            "grid_gap": null,
            "grid_row": null,
            "grid_template_areas": null,
            "grid_template_columns": null,
            "grid_template_rows": null,
            "height": null,
            "justify_content": null,
            "justify_items": null,
            "left": null,
            "margin": null,
            "max_height": null,
            "max_width": null,
            "min_height": null,
            "min_width": null,
            "object_fit": null,
            "object_position": null,
            "order": null,
            "overflow": null,
            "overflow_x": null,
            "overflow_y": null,
            "padding": null,
            "right": null,
            "top": null,
            "visibility": null,
            "width": null
          }
        },
        "6e6f85fc41bd4f1b8c4ee35901d53829": {
          "model_module": "@jupyter-widgets/controls",
          "model_module_version": "1.5.0",
          "model_name": "ProgressStyleModel",
          "state": {
            "_model_module": "@jupyter-widgets/controls",
            "_model_module_version": "1.5.0",
            "_model_name": "ProgressStyleModel",
            "_view_count": null,
            "_view_module": "@jupyter-widgets/base",
            "_view_module_version": "1.2.0",
            "_view_name": "StyleView",
            "bar_color": null,
            "description_width": ""
          }
        },
        "9a73027a915f432a9991c9fedc8329bc": {
          "model_module": "@jupyter-widgets/controls",
          "model_module_version": "1.5.0",
          "model_name": "HBoxModel",
          "state": {
            "_dom_classes": [],
            "_model_module": "@jupyter-widgets/controls",
            "_model_module_version": "1.5.0",
            "_model_name": "HBoxModel",
            "_view_count": null,
            "_view_module": "@jupyter-widgets/controls",
            "_view_module_version": "1.5.0",
            "_view_name": "HBoxView",
            "box_style": "",
            "children": [
              "IPY_MODEL_443ca4a41e214b9bab4824bd098550be",
              "IPY_MODEL_270056c5cac8419fa76d61fc363fb7f0",
              "IPY_MODEL_a94f97806e8b42c9a95e004da825da7a"
            ],
            "layout": "IPY_MODEL_e50f32e978df4257b4ebff28133de52a"
          }
        },
        "a94f97806e8b42c9a95e004da825da7a": {
          "model_module": "@jupyter-widgets/controls",
          "model_module_version": "1.5.0",
          "model_name": "HTMLModel",
          "state": {
            "_dom_classes": [],
            "_model_module": "@jupyter-widgets/controls",
            "_model_module_version": "1.5.0",
            "_model_name": "HTMLModel",
            "_view_count": null,
            "_view_module": "@jupyter-widgets/controls",
            "_view_module_version": "1.5.0",
            "_view_name": "HTMLView",
            "description": "",
            "description_tooltip": null,
            "layout": "IPY_MODEL_be5b8279d6454a8d83b3b199960bdfbf",
            "placeholder": "​",
            "style": "IPY_MODEL_b72c8885a9fc4502994ed622ba77b5f9",
            "value": " 17/1000 [3:39:30&lt;242:47:02, 889.14s/it]"
          }
        },
        "b72c8885a9fc4502994ed622ba77b5f9": {
          "model_module": "@jupyter-widgets/controls",
          "model_module_version": "1.5.0",
          "model_name": "DescriptionStyleModel",
          "state": {
            "_model_module": "@jupyter-widgets/controls",
            "_model_module_version": "1.5.0",
            "_model_name": "DescriptionStyleModel",
            "_view_count": null,
            "_view_module": "@jupyter-widgets/base",
            "_view_module_version": "1.2.0",
            "_view_name": "StyleView",
            "description_width": ""
          }
        },
        "be5b8279d6454a8d83b3b199960bdfbf": {
          "model_module": "@jupyter-widgets/base",
          "model_module_version": "1.2.0",
          "model_name": "LayoutModel",
          "state": {
            "_model_module": "@jupyter-widgets/base",
            "_model_module_version": "1.2.0",
            "_model_name": "LayoutModel",
            "_view_count": null,
            "_view_module": "@jupyter-widgets/base",
            "_view_module_version": "1.2.0",
            "_view_name": "LayoutView",
            "align_content": null,
            "align_items": null,
            "align_self": null,
            "border": null,
            "bottom": null,
            "display": null,
            "flex": null,
            "flex_flow": null,
            "grid_area": null,
            "grid_auto_columns": null,
            "grid_auto_flow": null,
            "grid_auto_rows": null,
            "grid_column": null,
            "grid_gap": null,
            "grid_row": null,
            "grid_template_areas": null,
            "grid_template_columns": null,
            "grid_template_rows": null,
            "height": null,
            "justify_content": null,
            "justify_items": null,
            "left": null,
            "margin": null,
            "max_height": null,
            "max_width": null,
            "min_height": null,
            "min_width": null,
            "object_fit": null,
            "object_position": null,
            "order": null,
            "overflow": null,
            "overflow_x": null,
            "overflow_y": null,
            "padding": null,
            "right": null,
            "top": null,
            "visibility": null,
            "width": null
          }
        },
        "e50f32e978df4257b4ebff28133de52a": {
          "model_module": "@jupyter-widgets/base",
          "model_module_version": "1.2.0",
          "model_name": "LayoutModel",
          "state": {
            "_model_module": "@jupyter-widgets/base",
            "_model_module_version": "1.2.0",
            "_model_name": "LayoutModel",
            "_view_count": null,
            "_view_module": "@jupyter-widgets/base",
            "_view_module_version": "1.2.0",
            "_view_name": "LayoutView",
            "align_content": null,
            "align_items": null,
            "align_self": null,
            "border": null,
            "bottom": null,
            "display": null,
            "flex": null,
            "flex_flow": null,
            "grid_area": null,
            "grid_auto_columns": null,
            "grid_auto_flow": null,
            "grid_auto_rows": null,
            "grid_column": null,
            "grid_gap": null,
            "grid_row": null,
            "grid_template_areas": null,
            "grid_template_columns": null,
            "grid_template_rows": null,
            "height": null,
            "justify_content": null,
            "justify_items": null,
            "left": null,
            "margin": null,
            "max_height": null,
            "max_width": null,
            "min_height": null,
            "min_width": null,
            "object_fit": null,
            "object_position": null,
            "order": null,
            "overflow": null,
            "overflow_x": null,
            "overflow_y": null,
            "padding": null,
            "right": null,
            "top": null,
            "visibility": null,
            "width": null
          }
        },
        "fa030f92e5c54da7b5abd51e53734d2e": {
          "model_module": "@jupyter-widgets/base",
          "model_module_version": "1.2.0",
          "model_name": "LayoutModel",
          "state": {
            "_model_module": "@jupyter-widgets/base",
            "_model_module_version": "1.2.0",
            "_model_name": "LayoutModel",
            "_view_count": null,
            "_view_module": "@jupyter-widgets/base",
            "_view_module_version": "1.2.0",
            "_view_name": "LayoutView",
            "align_content": null,
            "align_items": null,
            "align_self": null,
            "border": null,
            "bottom": null,
            "display": null,
            "flex": null,
            "flex_flow": null,
            "grid_area": null,
            "grid_auto_columns": null,
            "grid_auto_flow": null,
            "grid_auto_rows": null,
            "grid_column": null,
            "grid_gap": null,
            "grid_row": null,
            "grid_template_areas": null,
            "grid_template_columns": null,
            "grid_template_rows": null,
            "height": null,
            "justify_content": null,
            "justify_items": null,
            "left": null,
            "margin": null,
            "max_height": null,
            "max_width": null,
            "min_height": null,
            "min_width": null,
            "object_fit": null,
            "object_position": null,
            "order": null,
            "overflow": null,
            "overflow_x": null,
            "overflow_y": null,
            "padding": null,
            "right": null,
            "top": null,
            "visibility": null,
            "width": null
          }
        }
      }
    }
  },
  "nbformat": 4,
  "nbformat_minor": 0
}