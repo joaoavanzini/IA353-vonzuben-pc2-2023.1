{
  "cells": [
    {
      "cell_type": "markdown",
      "metadata": {
        "id": "view-in-github",
        "colab_type": "text"
      },
      "source": [
        "<a href=\"https://colab.research.google.com/github/jvpalhares/IA353-vonzuben-pc2-2023.1/blob/main/PC2_Ativ9_PLN_LSTM.ipynb\" target=\"_parent\"><img src=\"https://colab.research.google.com/assets/colab-badge.svg\" alt=\"Open In Colab\"/></a>"
      ]
    },
    {
      "cell_type": "markdown",
      "metadata": {
        "id": "XP2x0pxJ9uJK"
      },
      "source": [
        "## **Notebook #9**\n",
        "## Encoder-Decoder LSTM for Natural Language Processing.\n",
        "**Professor:** Fernando J. Von Zuben <br>\n",
        "**Aluno(a):** João Victor Palhares Barbosa\n"
      ]
    },
    {
      "cell_type": "code",
      "execution_count": 1,
      "metadata": {
        "id": "1xumdIFHDdrn"
      },
      "outputs": [],
      "source": [
        "from random import seed\n",
        "from random import randint\n",
        "from numpy import array\n",
        "from numpy import argmax"
      ]
    },
    {
      "cell_type": "code",
      "execution_count": 2,
      "metadata": {
        "id": "fspvFmS6Ddro"
      },
      "outputs": [],
      "source": [
        "def random_sum_pairs(n_examples, n_numbers, largest):\n",
        "    X,y = list(), list()\n",
        "    for i in range(n_examples):\n",
        "        in_pattern=[randint(1,largest) for _ in range(n_numbers)]\n",
        "        out_pattern = sum(in_pattern)\n",
        "        X.append(in_pattern)\n",
        "        y.append(out_pattern)\n",
        "    return X,y"
      ]
    },
    {
      "cell_type": "code",
      "execution_count": 3,
      "metadata": {
        "id": "zzr9HXh8Ddrp",
        "colab": {
          "base_uri": "https://localhost:8080/"
        },
        "outputId": "f71ccc96-d446-4e27-9519-396361a8a47b"
      },
      "outputs": [
        {
          "output_type": "stream",
          "name": "stdout",
          "text": [
            "[[3, 10]] [13]\n"
          ]
        }
      ],
      "source": [
        "seed(1)\n",
        "n_samples =1\n",
        "n_numbers = 2\n",
        "largest = 10\n",
        "X,y = random_sum_pairs(n_samples, n_numbers, largest)\n",
        "print(X,y)"
      ]
    },
    {
      "cell_type": "code",
      "execution_count": 4,
      "metadata": {
        "id": "QWTgrmmuDdrp"
      },
      "outputs": [],
      "source": [
        "from math import ceil\n",
        "from math import log10"
      ]
    },
    {
      "cell_type": "code",
      "execution_count": 5,
      "metadata": {
        "id": "NbBlwQTvDdrp"
      },
      "outputs": [],
      "source": [
        "def to_string(X,y,n_numbers,largest):\n",
        "    max_length = n_numbers*ceil(log10(largest+1)) + n_numbers - 1\n",
        "    Xstr = list()\n",
        "    for pattern in X:\n",
        "        strp = '+'.join([str(n) for n in pattern])\n",
        "        strp = ''.join([' ' for _ in range(max_length-len(strp))]) + strp\n",
        "        Xstr.append(strp)\n",
        "    maxlength = ceil(log10(n_numbers*(largest+1)))\n",
        "    ystr = list()\n",
        "    for pattern in y:\n",
        "        strp = str(pattern)\n",
        "        strp = ''.join([' 'for _ in range(maxlength-len(strp))]) + strp\n",
        "        ystr.append(strp)\n",
        "    return Xstr, ystr"
      ]
    },
    {
      "cell_type": "code",
      "execution_count": 6,
      "metadata": {
        "id": "fAVqEpSsDdrq"
      },
      "outputs": [],
      "source": [
        "seed(1)\n",
        "n_samples = 1\n",
        "n_numbers = 2\n",
        "largest = 10"
      ]
    },
    {
      "cell_type": "code",
      "execution_count": 7,
      "metadata": {
        "id": "u-m3UD5uDdrq",
        "colab": {
          "base_uri": "https://localhost:8080/"
        },
        "outputId": "0971cf58-6116-48a5-ea18-060a722e3a29"
      },
      "outputs": [
        {
          "output_type": "stream",
          "name": "stdout",
          "text": [
            "[[3, 10]] [13]\n",
            "[' 3+10'] ['13']\n"
          ]
        }
      ],
      "source": [
        "X,y = random_sum_pairs(n_samples, n_numbers, largest)\n",
        "print(X,y)\n",
        "\n",
        "X,y = to_string(X,y,n_numbers,largest)\n",
        "print(X,y)"
      ]
    },
    {
      "cell_type": "code",
      "execution_count": 8,
      "metadata": {
        "id": "qwQXLtpfDdrq"
      },
      "outputs": [],
      "source": [
        "alphabet = ['0','1','2','3','4','5','6','7','8','9','+',' ']"
      ]
    },
    {
      "cell_type": "code",
      "execution_count": 9,
      "metadata": {
        "id": "GXKcXm8JDdrq"
      },
      "outputs": [],
      "source": [
        "def integer_encode(X,y,alphabet):\n",
        "    char_to_int = dict((c,i) for i,c in enumerate(alphabet))\n",
        "    Xenc = list()\n",
        "    for pattern in X:\n",
        "        integer_encoded = [char_to_int[char] for char in pattern]\n",
        "        Xenc.append(integer_encoded)\n",
        "    yenc = list()\n",
        "    for pattern in y:\n",
        "        integer_encoded = [char_to_int[char] for char in pattern]\n",
        "        yenc.append(integer_encoded)\n",
        "    return Xenc, yenc"
      ]
    },
    {
      "cell_type": "code",
      "execution_count": 10,
      "metadata": {
        "id": "BjD9y1M2Ddrr"
      },
      "outputs": [],
      "source": [
        "X,y = integer_encode(X,y,alphabet)"
      ]
    },
    {
      "cell_type": "code",
      "execution_count": 11,
      "metadata": {
        "id": "v02pwsYYDdrr",
        "colab": {
          "base_uri": "https://localhost:8080/"
        },
        "outputId": "d636c02c-8065-4fad-ee34-e463eee796bf"
      },
      "outputs": [
        {
          "output_type": "stream",
          "name": "stdout",
          "text": [
            "[[11, 3, 10, 1, 0]] [[1, 3]]\n"
          ]
        }
      ],
      "source": [
        "print(X,y)"
      ]
    },
    {
      "cell_type": "code",
      "execution_count": 12,
      "metadata": {
        "id": "vad64QkqDdrr"
      },
      "outputs": [],
      "source": [
        "def one_hot_encode(X,y,max_int):\n",
        "    Xenc = list()\n",
        "    for seq in X:\n",
        "        pattern = list()\n",
        "        for index in seq:\n",
        "            vector = [0 for _ in range(max_int)]\n",
        "            vector[index] = 1\n",
        "            pattern.append(vector)\n",
        "        Xenc.append(pattern)\n",
        "        \n",
        "    yenc = list()\n",
        "    for seq in y:\n",
        "        pattern = list()\n",
        "        for index in seq:\n",
        "            vector = [0 for _ in range(max_int)]\n",
        "            vector[index] = 1\n",
        "            pattern.append(vector)\n",
        "        yenc.append(pattern)\n",
        "    return Xenc, yenc"
      ]
    },
    {
      "cell_type": "code",
      "execution_count": 13,
      "metadata": {
        "id": "W_tCfgMPDdrr"
      },
      "outputs": [],
      "source": [
        "X,y = one_hot_encode(X,y,len(alphabet))"
      ]
    },
    {
      "cell_type": "code",
      "execution_count": 14,
      "metadata": {
        "id": "R7VdCFIgDdrr",
        "colab": {
          "base_uri": "https://localhost:8080/"
        },
        "outputId": "4fb11480-cc5c-43a8-f69d-1d8f3b41faff"
      },
      "outputs": [
        {
          "output_type": "stream",
          "name": "stdout",
          "text": [
            "[[[0, 0, 0, 0, 0, 0, 0, 0, 0, 0, 0, 1], [0, 0, 0, 1, 0, 0, 0, 0, 0, 0, 0, 0], [0, 0, 0, 0, 0, 0, 0, 0, 0, 0, 1, 0], [0, 1, 0, 0, 0, 0, 0, 0, 0, 0, 0, 0], [1, 0, 0, 0, 0, 0, 0, 0, 0, 0, 0, 0]]] [[[0, 1, 0, 0, 0, 0, 0, 0, 0, 0, 0, 0], [0, 0, 0, 1, 0, 0, 0, 0, 0, 0, 0, 0]]]\n"
          ]
        }
      ],
      "source": [
        "print(X,y)"
      ]
    },
    {
      "cell_type": "code",
      "execution_count": 15,
      "metadata": {
        "id": "xVdn4BqyDdrs"
      },
      "outputs": [],
      "source": [
        "def generate_data(n_samples,n_numbers, largest, alphabet):\n",
        "    X,y = random_sum_pairs(n_samples,n_numbers,largest)\n",
        "    X,y = to_string(X,y,n_numbers,largest)\n",
        "    X,y = integer_encode(X,y,alphabet)\n",
        "    X,y = one_hot_encode(X,y,len(alphabet))\n",
        "    X,y = array(X), array(y)\n",
        "    return X,y"
      ]
    },
    {
      "cell_type": "code",
      "execution_count": 16,
      "metadata": {
        "id": "RDp9JqNkDdrs"
      },
      "outputs": [],
      "source": [
        "def invert(seq,alphabet):\n",
        "    int_to_char = dict((i,c) for i,c in enumerate(alphabet))\n",
        "    strings  = list()\n",
        "    for pattern in seq:\n",
        "        string = int_to_char[argmax(pattern)]\n",
        "        strings.append(string)\n",
        "    return ''.join(strings)"
      ]
    },
    {
      "cell_type": "code",
      "execution_count": 17,
      "metadata": {
        "id": "7BqRNPCkDdrs"
      },
      "outputs": [],
      "source": [
        "n_terms = 3\n",
        "largest = 10\n",
        "alphabet = [str(x) for x in range(10)] + ['+', ' ']"
      ]
    },
    {
      "cell_type": "code",
      "execution_count": 18,
      "metadata": {
        "id": "PijAMEFxDdrs"
      },
      "outputs": [],
      "source": [
        "n_chars = len(alphabet)\n",
        "n_in_seq_length = n_terms*ceil(log10(largest+1)) +n_terms-1\n",
        "n_out_seq_length = ceil(log10(n_terms*(largest+1)))"
      ]
    },
    {
      "cell_type": "code",
      "execution_count": 19,
      "metadata": {
        "id": "RR9pPe1oDdrs"
      },
      "outputs": [],
      "source": [
        "from keras.models import Sequential\n",
        "from keras.layers import LSTM\n",
        "from keras.layers import RepeatVector\n",
        "from keras.layers import TimeDistributed\n",
        "from keras.layers import Dense"
      ]
    },
    {
      "cell_type": "code",
      "execution_count": 20,
      "metadata": {
        "id": "Gxs5FSIwDdrs",
        "colab": {
          "base_uri": "https://localhost:8080/"
        },
        "outputId": "71d1e391-5a0f-4f77-b78a-46f050cb3a59"
      },
      "outputs": [
        {
          "output_type": "stream",
          "name": "stdout",
          "text": [
            "Model: \"sequential\"\n",
            "_________________________________________________________________\n",
            " Layer (type)                Output Shape              Param #   \n",
            "=================================================================\n",
            " lstm (LSTM)                 (None, 75)                26400     \n",
            "                                                                 \n",
            " repeat_vector (RepeatVector  (None, 2, 75)            0         \n",
            " )                                                               \n",
            "                                                                 \n",
            " lstm_1 (LSTM)               (None, 2, 50)             25200     \n",
            "                                                                 \n",
            " time_distributed (TimeDistr  (None, 2, 12)            612       \n",
            " ibuted)                                                         \n",
            "                                                                 \n",
            "=================================================================\n",
            "Total params: 52,212\n",
            "Trainable params: 52,212\n",
            "Non-trainable params: 0\n",
            "_________________________________________________________________\n",
            "None\n"
          ]
        }
      ],
      "source": [
        "model = Sequential()\n",
        "model.add(LSTM(75, input_shape=(n_in_seq_length,n_chars)))\n",
        "model.add(RepeatVector(n_out_seq_length))\n",
        "model.add(LSTM(50,return_sequences=True))\n",
        "model.add(TimeDistributed(Dense(n_chars,activation='softmax')))\n",
        "model.compile(loss='categorical_crossentropy',optimizer='adam',metrics=['accuracy'])\n",
        "print(model.summary())"
      ]
    },
    {
      "cell_type": "code",
      "execution_count": 21,
      "metadata": {
        "id": "vG1QwiwFDdrt",
        "colab": {
          "base_uri": "https://localhost:8080/"
        },
        "outputId": "eaa7e1ce-8ff7-47dc-d372-4e62b3fdd863"
      },
      "outputs": [
        {
          "output_type": "stream",
          "name": "stdout",
          "text": [
            "7500/7500 [==============================] - 60s 7ms/step - loss: 0.4314 - accuracy: 0.8725\n"
          ]
        },
        {
          "output_type": "execute_result",
          "data": {
            "text/plain": [
              "<keras.callbacks.History at 0x7f9664758130>"
            ]
          },
          "metadata": {},
          "execution_count": 21
        }
      ],
      "source": [
        "X,y = generate_data(75000,n_terms,largest,alphabet)\n",
        "model.fit(X,y,epochs=1,batch_size=10)"
      ]
    },
    {
      "cell_type": "code",
      "execution_count": 22,
      "metadata": {
        "id": "pBWMp85oDdrt",
        "colab": {
          "base_uri": "https://localhost:8080/"
        },
        "outputId": "7b30f1bf-3973-4f2e-abdf-1b55c9f20ce5"
      },
      "outputs": [
        {
          "output_type": "stream",
          "name": "stdout",
          "text": [
            "Loss: 0.040067, Accuracy: 99.500000\n"
          ]
        }
      ],
      "source": [
        "X,y = generate_data(100,n_terms,largest,alphabet)\n",
        "loss,acc = model.evaluate(X,y,verbose=0)\n",
        "print('Loss: %f, Accuracy: %f' %(loss,acc*100))"
      ]
    },
    {
      "cell_type": "code",
      "execution_count": 23,
      "metadata": {
        "id": "XjorRbDxDdrt",
        "colab": {
          "base_uri": "https://localhost:8080/"
        },
        "outputId": "4c0c3581-90b0-4d95-cb10-d9963cab3f99"
      },
      "outputs": [
        {
          "output_type": "stream",
          "name": "stdout",
          "text": [
            "   3+7+5 = 15 (expect 15)\n",
            "  2+10+6 = 18 (expect 18)\n",
            "   4+5+9 = 18 (expect 18)\n",
            "   2+2+4 =  8 (expect  8)\n",
            " 10+7+10 = 27 (expect 27)\n",
            "  10+2+3 = 15 (expect 15)\n",
            "   8+4+1 = 13 (expect 13)\n",
            "   8+1+3 = 12 (expect 12)\n",
            "   5+9+6 = 20 (expect 20)\n",
            "   1+5+8 = 14 (expect 14)\n"
          ]
        }
      ],
      "source": [
        "for _ in range(10):\n",
        "    X,y = generate_data(1,n_terms,largest,alphabet)\n",
        "    yhat = model.predict(X,verbose=0)\n",
        "    in_seq = invert(X[0],alphabet)\n",
        "    out_seq = invert(y[0],alphabet)\n",
        "    predicted = invert(yhat[0],alphabet)\n",
        "    print('%s = %s (expect %s)' %(in_seq,predicted,out_seq))"
      ]
    }
  ],
  "metadata": {
    "kernelspec": {
      "display_name": "Python 3",
      "language": "python",
      "name": "python3"
    },
    "language_info": {
      "codemirror_mode": {
        "name": "ipython",
        "version": 3
      },
      "file_extension": ".py",
      "mimetype": "text/x-python",
      "name": "python",
      "nbconvert_exporter": "python",
      "pygments_lexer": "ipython3",
      "version": "3.6.9"
    },
    "colab": {
      "provenance": [],
      "include_colab_link": true
    }
  },
  "nbformat": 4,
  "nbformat_minor": 0
}